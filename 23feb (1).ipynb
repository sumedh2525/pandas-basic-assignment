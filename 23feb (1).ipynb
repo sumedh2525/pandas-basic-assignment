{
 "cells": [
  {
   "cell_type": "markdown",
   "id": "16ff701d-b16c-4bf9-b96e-efecc6f6e912",
   "metadata": {},
   "source": [
    "Q1. Create a Pandas Series that contains the following data: 4, 8, 15, 16, 23, and 42. Then, print the series."
   ]
  },
  {
   "cell_type": "code",
   "execution_count": 3,
   "id": "c8d2d15e-41d3-4cd8-ad0c-2dd6535c1adf",
   "metadata": {},
   "outputs": [
    {
     "name": "stdout",
     "output_type": "stream",
     "text": [
      "0     4\n",
      "1     8\n",
      "2    15\n",
      "3    16\n",
      "4    23\n",
      "5    42\n",
      "dtype: int64\n"
     ]
    }
   ],
   "source": [
    "import pandas as pd\n",
    "data = [4,8,15,16,23,42]\n",
    "print(pd.Series(data))"
   ]
  },
  {
   "cell_type": "markdown",
   "id": "ba45b012-34be-448c-aeb4-4e6220f796c9",
   "metadata": {},
   "source": [
    "Q2. Create a variable of list type containing 10 elements in it, and apply pandas.Series function on the\n",
    "variable print it."
   ]
  },
  {
   "cell_type": "code",
   "execution_count": 4,
   "id": "6381f534-5017-45a5-83d8-0d018eebffad",
   "metadata": {},
   "outputs": [
    {
     "name": "stdout",
     "output_type": "stream",
     "text": [
      "0         pw\n",
      "1    ineuron\n",
      "2     skills\n",
      "dtype: object\n"
     ]
    }
   ],
   "source": [
    "x = pd.Series(['pw', 'ineuron', 'skills'])\n",
    "\n",
    "print(x)"
   ]
  },
  {
   "cell_type": "markdown",
   "id": "437e4c42-1079-4021-a41c-cee7ff3f47d5",
   "metadata": {},
   "source": [
    "Q4. What is ‘DataFrame’ in pandas and how is it different from pandas.series? Explain with an example.\n",
    "\n",
    "\n",
    "Ans: Pandas DataFrame, on the other hand, is a two-dimensional structure with columns and rows whose size can be changed.\n",
    "You can also think of it as a dictionary of Series objects. The data parameter can take any of the following data types: Dictionary (dict) of – 1D ndarray, lists, or Series"
   ]
  },
  {
   "cell_type": "markdown",
   "id": "411c857e-e69b-4c91-bf35-26b36a6dfb32",
   "metadata": {},
   "source": [
    "Q5. What are some common functions you can use to manipulate data in a Pandas DataFrame? Can\n",
    "you give an example of when you might use one of these functions?\n",
    "\n",
    "\n",
    "Ans:-Head and Tail. To see the data frame we can use df. ...\n",
    "Shape, Size and Info. Two most basic functions after reading data is to know the"
   ]
  },
  {
   "cell_type": "code",
   "execution_count": null,
   "id": "c8289187-fe7c-497c-965b-5dd0d437d996",
   "metadata": {},
   "outputs": [],
   "source": []
  },
  {
   "cell_type": "markdown",
   "id": "f0fc73fc-3b87-4da6-a1d6-eea50a96432f",
   "metadata": {},
   "source": [
    "Q6. Which of the following is mutable in nature Series, DataFrame, Panel?\n",
    "\n",
    "Ans:-Only DataFrame and panel is mutalble"
   ]
  },
  {
   "cell_type": "markdown",
   "id": "161e8fed-27de-44a2-86df-a609e2aa130b",
   "metadata": {},
   "source": [
    "Q3. Create a Pandas DataFrame that contains the following data:\n",
    "Name\n",
    "Alice\n",
    "Bob\n",
    "Claire\n",
    "Age\n",
    "25\n",
    "30\n",
    "27\n",
    "\n",
    "Gender\n",
    "Female\n",
    "Male\n",
    "Female"
   ]
  },
  {
   "cell_type": "code",
   "execution_count": 5,
   "id": "ce4896ae-513e-4e10-9102-5bd850f76444",
   "metadata": {},
   "outputs": [],
   "source": [
    "data = [{\"Alice\" , \"25\" , \"Female\"} , {\"Bob\" , \"30\" , \"Male\"} , {\"Claire\" , \"27\" , \"Female\"}]"
   ]
  },
  {
   "cell_type": "code",
   "execution_count": 6,
   "id": "02e39ba0-2fb5-47ed-8e01-cf5ddf720586",
   "metadata": {},
   "outputs": [],
   "source": [
    "df = pd.DataFrame(data, columns=[\"Name\",\"Age\",\"Gender\"])"
   ]
  },
  {
   "cell_type": "code",
   "execution_count": 7,
   "id": "f8b17923-8760-4a67-82e2-73c8cb64b05e",
   "metadata": {},
   "outputs": [
    {
     "data": {
      "text/html": [
       "<div>\n",
       "<style scoped>\n",
       "    .dataframe tbody tr th:only-of-type {\n",
       "        vertical-align: middle;\n",
       "    }\n",
       "\n",
       "    .dataframe tbody tr th {\n",
       "        vertical-align: top;\n",
       "    }\n",
       "\n",
       "    .dataframe thead th {\n",
       "        text-align: right;\n",
       "    }\n",
       "</style>\n",
       "<table border=\"1\" class=\"dataframe\">\n",
       "  <thead>\n",
       "    <tr style=\"text-align: right;\">\n",
       "      <th></th>\n",
       "      <th>Name</th>\n",
       "      <th>Age</th>\n",
       "      <th>Gender</th>\n",
       "    </tr>\n",
       "  </thead>\n",
       "  <tbody>\n",
       "    <tr>\n",
       "      <th>0</th>\n",
       "      <td>25</td>\n",
       "      <td>Female</td>\n",
       "      <td>Alice</td>\n",
       "    </tr>\n",
       "    <tr>\n",
       "      <th>1</th>\n",
       "      <td>Male</td>\n",
       "      <td>Bob</td>\n",
       "      <td>30</td>\n",
       "    </tr>\n",
       "    <tr>\n",
       "      <th>2</th>\n",
       "      <td>Claire</td>\n",
       "      <td>27</td>\n",
       "      <td>Female</td>\n",
       "    </tr>\n",
       "  </tbody>\n",
       "</table>\n",
       "</div>"
      ],
      "text/plain": [
       "     Name     Age  Gender\n",
       "0      25  Female   Alice\n",
       "1    Male     Bob      30\n",
       "2  Claire      27  Female"
      ]
     },
     "execution_count": 7,
     "metadata": {},
     "output_type": "execute_result"
    }
   ],
   "source": [
    "df\n"
   ]
  },
  {
   "cell_type": "markdown",
   "id": "2721889a-9c95-46e7-b4a0-ed9737ef1554",
   "metadata": {},
   "source": [
    "Q7. Create a DataFrame using multiple Series. Explain with an example.\n",
    "Ans:- You can create a DataFrame from multiple Series objects by adding each series as a columns. \n",
    "By using concat() method you can merge multiple series together into DataFrame.\n",
    "\n",
    "\n",
    "\n"
   ]
  },
  {
   "cell_type": "code",
   "execution_count": 8,
   "id": "8616962e-e7e2-4acd-bf46-e4df464294c3",
   "metadata": {},
   "outputs": [
    {
     "data": {
      "text/html": [
       "<div>\n",
       "<style scoped>\n",
       "    .dataframe tbody tr th:only-of-type {\n",
       "        vertical-align: middle;\n",
       "    }\n",
       "\n",
       "    .dataframe tbody tr th {\n",
       "        vertical-align: top;\n",
       "    }\n",
       "\n",
       "    .dataframe thead th {\n",
       "        text-align: right;\n",
       "    }\n",
       "</style>\n",
       "<table border=\"1\" class=\"dataframe\">\n",
       "  <thead>\n",
       "    <tr style=\"text-align: right;\">\n",
       "      <th></th>\n",
       "      <th>0</th>\n",
       "    </tr>\n",
       "  </thead>\n",
       "  <tbody>\n",
       "    <tr>\n",
       "      <th>1</th>\n",
       "      <td>1</td>\n",
       "    </tr>\n",
       "    <tr>\n",
       "      <th>6</th>\n",
       "      <td>2</td>\n",
       "    </tr>\n",
       "    <tr>\n",
       "      <th>7</th>\n",
       "      <td>3</td>\n",
       "    </tr>\n",
       "    <tr>\n",
       "      <th>8</th>\n",
       "      <td>4</td>\n",
       "    </tr>\n",
       "    <tr>\n",
       "      <th>9</th>\n",
       "      <td>5</td>\n",
       "    </tr>\n",
       "    <tr>\n",
       "      <th>9</th>\n",
       "      <td>6</td>\n",
       "    </tr>\n",
       "  </tbody>\n",
       "</table>\n",
       "</div>"
      ],
      "text/plain": [
       "   0\n",
       "1  1\n",
       "6  2\n",
       "7  3\n",
       "8  4\n",
       "9  5\n",
       "9  6"
      ]
     },
     "execution_count": 8,
     "metadata": {},
     "output_type": "execute_result"
    }
   ],
   "source": [
    "dat1 = [1,2,3,4,5,6]\n",
    "dat2 = [1,6,7,8,9,9]\n",
    "\n",
    "pd.DataFrame(dat1,dat2)"
   ]
  },
  {
   "cell_type": "code",
   "execution_count": null,
   "id": "53707c7d-97ff-44b1-8682-c6393f2b7577",
   "metadata": {},
   "outputs": [],
   "source": []
  }
 ],
 "metadata": {
  "kernelspec": {
   "display_name": "Python 3 (ipykernel)",
   "language": "python",
   "name": "python3"
  },
  "language_info": {
   "codemirror_mode": {
    "name": "ipython",
    "version": 3
   },
   "file_extension": ".py",
   "mimetype": "text/x-python",
   "name": "python",
   "nbconvert_exporter": "python",
   "pygments_lexer": "ipython3",
   "version": "3.10.8"
  }
 },
 "nbformat": 4,
 "nbformat_minor": 5
}
